{
 "cells": [
  {
   "cell_type": "code",
   "execution_count": null,
   "source": [],
   "outputs": [],
   "metadata": {}
  },
  {
   "cell_type": "code",
   "execution_count": null,
   "source": [],
   "outputs": [],
   "metadata": {}
  },
  {
   "cell_type": "markdown",
   "source": [
    "## 11.1 파이썬 문화에서의 인터페이스와 프로토콜\n",
    "- 인터페이스 : 객체의 공개 메서드의 일부\n",
    "- 프로토콜 : 역할을 완수하기 위한 메서드의 집합으로서의 인터페이스, 상속과 무관, 객체의 다형성 구현"
   ],
   "metadata": {}
  },
  {
   "cell_type": "markdown",
   "source": [
    "## 11.2 파이썬은 시퀀스를 찾아낸다"
   ],
   "metadata": {}
  },
  {
   "cell_type": "code",
   "execution_count": 1,
   "source": [
    "# abc.Sequence 를 상속하지 않는 객체, __getitem__ 만 구현\n",
    "class Foo:\n",
    "    def __getitem__(self, pos):\n",
    "        return range(0,30,10)[pos]"
   ],
   "outputs": [],
   "metadata": {}
  },
  {
   "cell_type": "code",
   "execution_count": 3,
   "source": [
    "# __iter__() 메서드가 없지만 대체 수단인 __getitem__() 메서드가 구현되어 있으므로 반복, in 연산자 \n",
    "f = Foo()\n",
    "20 in f"
   ],
   "outputs": [
    {
     "output_type": "execute_result",
     "data": {
      "text/plain": [
       "True"
      ]
     },
     "metadata": {},
     "execution_count": 3
    }
   ],
   "metadata": {}
  },
  {
   "cell_type": "code",
   "execution_count": 2,
   "source": [
    "# 1장에서 구현한 FrenchDeck 클래스도 abc.Sequence를 상속하지 않지만, 시퀀스 프로토콜의 __getitem__()과 __len__() 메서드를 구현한다.\n",
    "\n",
    "import collections\n",
    "\n",
    "Card = collections.namedtuple('Card', ['rank','suit'])\n",
    "\n",
    "class FrenchDeck:\n",
    "    ranks = [str(n) for n in range(2,11)] + list('JQKA')\n",
    "    suits = 'spades diamonds clubs hearts'.split()\n",
    "    \n",
    "    def __init__(self):\n",
    "        self._cards = [Card(rank, suit) for suit in self.suits\n",
    "                      for rank in self.ranks]\n",
    "\n",
    "    def __len__(self):\n",
    "        return len(self._cards)\n",
    "\n",
    "    def __getitem__(self, pos):\n",
    "        return self._cards[pos]"
   ],
   "outputs": [],
   "metadata": {}
  },
  {
   "cell_type": "markdown",
   "source": [
    "## 11.3 런타임에 프로토콜을 구현하는 monkey patching\n",
    "- FrenchDeck 클래스에 random.shuffle() 함수 사용 \n",
    "- 다음과 같이 입력하면 예외가 발생하는데, 이는 FrenchDeck 객체가 할당을 지원하지 않기 때문이다.\n"
   ],
   "metadata": {}
  },
  {
   "cell_type": "code",
   "execution_count": 4,
   "source": [
    "from random import shuffle\n",
    "deck = FrenchDeck()\n",
    "shuffle(deck)"
   ],
   "outputs": [
    {
     "output_type": "error",
     "ename": "TypeError",
     "evalue": "'FrenchDeck' object does not support item assignment",
     "traceback": [
      "\u001b[0;31m---------------------------------------------------------------------------\u001b[0m",
      "\u001b[0;31mTypeError\u001b[0m                                 Traceback (most recent call last)",
      "\u001b[0;32m<ipython-input-4-88006b0b9529>\u001b[0m in \u001b[0;36m<module>\u001b[0;34m\u001b[0m\n\u001b[1;32m      1\u001b[0m \u001b[0;32mfrom\u001b[0m \u001b[0mrandom\u001b[0m \u001b[0;32mimport\u001b[0m \u001b[0mshuffle\u001b[0m\u001b[0;34m\u001b[0m\u001b[0;34m\u001b[0m\u001b[0m\n\u001b[1;32m      2\u001b[0m \u001b[0mdeck\u001b[0m \u001b[0;34m=\u001b[0m \u001b[0mFrenchDeck\u001b[0m\u001b[0;34m(\u001b[0m\u001b[0;34m)\u001b[0m\u001b[0;34m\u001b[0m\u001b[0;34m\u001b[0m\u001b[0m\n\u001b[0;32m----> 3\u001b[0;31m \u001b[0mshuffle\u001b[0m\u001b[0;34m(\u001b[0m\u001b[0mdeck\u001b[0m\u001b[0;34m)\u001b[0m\u001b[0;34m\u001b[0m\u001b[0;34m\u001b[0m\u001b[0m\n\u001b[0m",
      "\u001b[0;32m/usr/local/Cellar/python@3.9/3.9.6/Frameworks/Python.framework/Versions/3.9/lib/python3.9/random.py\u001b[0m in \u001b[0;36mshuffle\u001b[0;34m(self, x, random)\u001b[0m\n\u001b[1;32m    360\u001b[0m                 \u001b[0;31m# pick an element in x[:i+1] with which to exchange x[i]\u001b[0m\u001b[0;34m\u001b[0m\u001b[0;34m\u001b[0m\u001b[0;34m\u001b[0m\u001b[0m\n\u001b[1;32m    361\u001b[0m                 \u001b[0mj\u001b[0m \u001b[0;34m=\u001b[0m \u001b[0mrandbelow\u001b[0m\u001b[0;34m(\u001b[0m\u001b[0mi\u001b[0m \u001b[0;34m+\u001b[0m \u001b[0;36m1\u001b[0m\u001b[0;34m)\u001b[0m\u001b[0;34m\u001b[0m\u001b[0;34m\u001b[0m\u001b[0m\n\u001b[0;32m--> 362\u001b[0;31m                 \u001b[0mx\u001b[0m\u001b[0;34m[\u001b[0m\u001b[0mi\u001b[0m\u001b[0;34m]\u001b[0m\u001b[0;34m,\u001b[0m \u001b[0mx\u001b[0m\u001b[0;34m[\u001b[0m\u001b[0mj\u001b[0m\u001b[0;34m]\u001b[0m \u001b[0;34m=\u001b[0m \u001b[0mx\u001b[0m\u001b[0;34m[\u001b[0m\u001b[0mj\u001b[0m\u001b[0;34m]\u001b[0m\u001b[0;34m,\u001b[0m \u001b[0mx\u001b[0m\u001b[0;34m[\u001b[0m\u001b[0mi\u001b[0m\u001b[0;34m]\u001b[0m\u001b[0;34m\u001b[0m\u001b[0;34m\u001b[0m\u001b[0m\n\u001b[0m\u001b[1;32m    363\u001b[0m         \u001b[0;32melse\u001b[0m\u001b[0;34m:\u001b[0m\u001b[0;34m\u001b[0m\u001b[0;34m\u001b[0m\u001b[0m\n\u001b[1;32m    364\u001b[0m             _warn('The *random* parameter to shuffle() has been deprecated\\n'\n",
      "\u001b[0;31mTypeError\u001b[0m: 'FrenchDeck' object does not support item assignment"
     ]
    }
   ],
   "metadata": {}
  },
  {
   "cell_type": "code",
   "execution_count": 5,
   "source": [
    "# 동적 언어의 특성을 활용하여 런타임에서 메서드 추가\n",
    "\n",
    "def set_card(deck, pos, card):\n",
    "    deck._cards[pos] = card\n",
    "    \n",
    "FrenchDeck.__setitem__ = set_card\n"
   ],
   "outputs": [],
   "metadata": {}
  },
  {
   "cell_type": "code",
   "execution_count": 6,
   "source": [
    "shuffle(deck)\n",
    "deck[:5]\n"
   ],
   "outputs": [
    {
     "output_type": "execute_result",
     "data": {
      "text/plain": [
       "[Card(rank='K', suit='hearts'),\n",
       " Card(rank='10', suit='clubs'),\n",
       " Card(rank='5', suit='spades'),\n",
       " Card(rank='9', suit='hearts'),\n",
       " Card(rank='10', suit='diamonds')]"
      ]
     },
     "metadata": {},
     "execution_count": 6
    }
   ],
   "metadata": {}
  },
  {
   "cell_type": "markdown",
   "source": [
    "## 11.4 알렉스 마르텔리의 물세 \n",
    "- abc 가 파이썬에 도움을 주는 이유 \n",
    "- 덕 타이핑 : 객체의 실제 자료형 무시 \n",
    "- 객체 용도에 맞는 메서드 이름, 시그니처, 의미를 구현하도록 보장 \n",
    "- isinstance() 함수 사용을 회피 --> 상속을 할 수 없게 만듬\n",
    "- 관측할 수 있는 특징에 주안점을 둔다 \n",
    "- 같은 메서드 명을 공유할때 객체가 대등하다는 것을 보장할 수 없다. 메서드가 같으리라는 보장도 없다 \n",
    "- goose typing 으로 덕타이핑을 보완\n",
    "- cls 가 추상베이스인 경우 (cls 의 메타클래스가 abc.ABCMeta 인 경우) --> isinstance(obj, cls) 를 사용\n",
    "- register() : 특정 클래스를 ABC 의 가상 서브클래스로 선언"
   ],
   "metadata": {}
  },
  {
   "cell_type": "code",
   "execution_count": 7,
   "source": [
    "# len 만을 구현함으로 abc.Size 서브클래스로 인식하게됨\n",
    "class Struggle:\n",
    "    def __len__(self): return 23\n",
    "\n",
    "from collections import abc\n",
    "isinstance(Struggle(), abc.Sized)"
   ],
   "outputs": [
    {
     "output_type": "execute_result",
     "data": {
      "text/plain": [
       "True"
      ]
     },
     "metadata": {},
     "execution_count": 7
    }
   ],
   "metadata": {}
  },
  {
   "cell_type": "code",
   "execution_count": 8,
   "source": [
    "#  isinstance() 를 많이 사용하는 것은 코드 악취\n",
    "#  if/else 블록안에서 isinstance를 쓰는 것은 좋지 않다 --> 다형성을 사용해야한다 "
   ],
   "outputs": [],
   "metadata": {}
  },
  {
   "cell_type": "markdown",
   "source": [
    "## 11.5 ABC 상속하기 "
   ],
   "metadata": {}
  },
  {
   "cell_type": "code",
   "execution_count": 17,
   "source": [
    "# FrenchDeck2를 colletions.MutableSequence의 서브클래스로 선언한다.\n",
    "import collections\n",
    "\n",
    "Card = collections.namedtuple('Card', ['rank','suit'])\n",
    "\n",
    "class FrenchDeck2(collections.abc.MutableSequence):\n",
    "    ranks = [str(n) for n in range(2,11)] + list('JQKA')\n",
    "    suits = 'spades diamonds clubs hearts'.split()\n",
    "    \n",
    "    def __init__(self):\n",
    "        self._cards = [Card(rank, suit) for suit in self.suits\n",
    "                      for rank in self.ranks]\n",
    "\n",
    "    def __len__(self):\n",
    "        return len(self._cards)\n",
    "\n",
    "    def __getitem__(self, position):\n",
    "        return self._cards[position]\n",
    "    \n",
    "    def __setitem__(self, position, value):\n",
    "        self._cards[position] = value\n",
    "        \n",
    "    # MutableSequence를 상속하므로 이 클래스의 추상 메서드인 \n",
    "    # __delitem__() 도 구현해야함\n",
    "    def __delitem__(self, position):\n",
    "        del self._cards[position]\n",
    "        \n",
    "    # insert() 또한 추상 메서드, 구현하지 않을 경우 에러발생\n",
    "    # def insert(self, position, value):\n",
    "    #     self._cards.insert(position, value)"
   ],
   "outputs": [],
   "metadata": {}
  },
  {
   "cell_type": "code",
   "execution_count": 18,
   "source": [
    "# 파이썬은 모듈을 로딩하거나 컴파일할 때가 아니라 실제로 객체를 생성할 때 추상 메서드의 구현 여부를 확인한다.\n",
    "frenchdeck2 = FrenchDeck2()\n"
   ],
   "outputs": [
    {
     "output_type": "error",
     "ename": "TypeError",
     "evalue": "Can't instantiate abstract class FrenchDeck2 with abstract method insert",
     "traceback": [
      "\u001b[0;31m---------------------------------------------------------------------------\u001b[0m",
      "\u001b[0;31mTypeError\u001b[0m                                 Traceback (most recent call last)",
      "\u001b[0;32m<ipython-input-18-2339be8c857c>\u001b[0m in \u001b[0;36m<module>\u001b[0;34m\u001b[0m\n\u001b[1;32m      1\u001b[0m \u001b[0;31m# 파이썬은 모듈을 로딩하거나 컴파일할 때가 아니라 실제로 객체를 생성할 때 추상 메서드의 구현 여부를 확인한다.\u001b[0m\u001b[0;34m\u001b[0m\u001b[0;34m\u001b[0m\u001b[0;34m\u001b[0m\u001b[0m\n\u001b[0;32m----> 2\u001b[0;31m \u001b[0mfrenchdeck2\u001b[0m \u001b[0;34m=\u001b[0m \u001b[0mFrenchDeck2\u001b[0m\u001b[0;34m(\u001b[0m\u001b[0;34m)\u001b[0m\u001b[0;34m\u001b[0m\u001b[0;34m\u001b[0m\u001b[0m\n\u001b[0m",
      "\u001b[0;31mTypeError\u001b[0m: Can't instantiate abstract class FrenchDeck2 with abstract method insert"
     ]
    }
   ],
   "metadata": {}
  },
  {
   "cell_type": "markdown",
   "source": [
    "## 11.6 표준 라이브러리 ABC \n",
    "### 11.6.1 collections.abc 의 ABC\n",
    "- 대부분의 ABC 는 collections.abc 모듈에 정의되어 있음. \n",
    "- iterable, Container, Sized : 모든 컬렉션은 이 abc 상속 혹은, 호환 프로토콜을 구현해야함\n",
    "- Sequence, Mapping, Set : 주요 불변 컬렉션\n",
    "- MappingView : items, keys, values 메서드에서 반환 되는 객체는 ItemsView, KeysView, ValuesView 를 상속 \n",
    "- Callable, Hashable : 객체 호출 혹은 해싱이 가능한지 isinstance() 함수와 함께 사용\n",
    "- Iterator : Iterable을 상속"
   ],
   "metadata": {}
  },
  {
   "cell_type": "markdown",
   "source": [
    "### 11.6.2 ABC 숫자탑 \n",
    "- 상위 Number --> Complex --> Real --> Rational --> Integral \n",
    "- 정수형인지 검사 isinstance(x, numbers.Integral)\n",
    "- decimal.Decimal 은 numbers.Real 의 가상 서브클래스로 등록되어 있지 않음 --> decimal 과 float 은 다르다"
   ],
   "metadata": {}
  },
  {
   "cell_type": "code",
   "execution_count": 20,
   "source": [
    "import numbers\n",
    "\n",
    "a = 1+ 2j\n",
    "b = 3+ 3j\n",
    "print(a*b, isinstance(a, numbers.Complex))\n",
    "\n",
    "c = 3.0\n",
    "print(c, isinstance(c, numbers.Integral), isinstance(c, numbers.Complex))"
   ],
   "outputs": [
    {
     "output_type": "stream",
     "name": "stdout",
     "text": [
      "(-3+9j) True\n",
      "3.0 False True\n"
     ]
    }
   ],
   "metadata": {}
  },
  {
   "cell_type": "markdown",
   "source": [
    "## 11.7 ABC의 정의와 사용 \n",
    "- 프레임워크를 확장해야하는 상황을 가정 \n",
    "- 광고관리 프레임워크 \n",
    "- 무반복, 무작위 선발 클래스를 지원 --> 갖춰야할 특성을 알려주기위해 ABC를 정의\n",
    "- 유한 집합에서 무작위 항목 선택 \n",
    "\n",
    "1. Tobola ABC\n",
    "- 추상 메서드 \n",
    "    - load() : 항목을 컨테이너에 넣기\n",
    "    - pick() : 항목을 무작위로 꺼내기\n",
    "- 구상 메서드\n",
    "    - loaded() : 항목이 1개 이상 있으면 True 를 반환\n",
    "    - inspect() : 컨테이너 내부 항목으로부터 정렬된 튜플 반환 "
   ],
   "metadata": {}
  },
  {
   "cell_type": "code",
   "execution_count": 2,
   "source": [
    "# tombola.py\n",
    "\n",
    "import abc\n",
    "\n",
    "class Tombola(abc.ABC): # ABC 정의하기 위해 상속\n",
    "    \n",
    "    @abc.abstractmethod\n",
    "    def load(self, iterable):\n",
    "        \"\"\"iterable의 항목들을 추가한다.\"\"\"\n",
    "        \n",
    "    @abc.abstractmethod\n",
    "    def pick(self):\n",
    "        \"\"\"무작위로 항목을 하나 제거하고 반환한다.\n",
    "        객체가 비어 있을 때 이 메서드를 실행하면 'LookupError'가 발생한다.\n",
    "        \"\"\"\n",
    "        \n",
    "    def loaded(self): # ABC 에도 구상 메서드가 들어갈 수 있다\n",
    "        \"\"\"최소 한 개의 항목이 있으면 True, 아님 False 반환\"\"\"\n",
    "        # ABC의 구상 메서드는 반드시 ABC에 정의된 인터페이스, 즉\n",
    "        # ABC의 다른 구상 메서드나 추상 메서드, 혹은 프로퍼티만 사용해야 한다.\n",
    "        return bool(self.inspect())\n",
    "    \n",
    "    def inspect(self):\n",
    "        \"\"\"현재 안에 있는 항목들로 구성된 정렬된 튜플 반환\"\"\"\n",
    "        items = []\n",
    "        while True:\n",
    "            try:\n",
    "                # pick() 을 계속 호출해서 Tombola 객체를 비움\n",
    "                items.append(self.pick())\n",
    "            except LookupError:\n",
    "                break\n",
    "        self.load(items) # load 메서드를 호출해서 다시 넣는다\n",
    "        return tuple(sorted(items))"
   ],
   "outputs": [],
   "metadata": {}
  },
  {
   "cell_type": "markdown",
   "source": [
    "- inspect 는 비싼 연산을 수행  --> 추후 개선 "
   ],
   "metadata": {}
  },
  {
   "cell_type": "code",
   "execution_count": 26,
   "source": [
    "class Fake(Tombola):\n",
    "    def pick(self):\n",
    "        return 13\n",
    "\n",
    "Fake"
   ],
   "outputs": [
    {
     "output_type": "execute_result",
     "data": {
      "text/plain": [
       "__main__.Fake"
      ]
     },
     "metadata": {},
     "execution_count": 26
    }
   ],
   "metadata": {}
  },
  {
   "cell_type": "code",
   "execution_count": 27,
   "source": [
    "# load()를 구현하지 않았으므로 객체 생성 시 TypeError 발생 ()\n",
    "f = Fake()"
   ],
   "outputs": [
    {
     "output_type": "error",
     "ename": "TypeError",
     "evalue": "Can't instantiate abstract class Fake with abstract method load",
     "traceback": [
      "\u001b[0;31m---------------------------------------------------------------------------\u001b[0m",
      "\u001b[0;31mTypeError\u001b[0m                                 Traceback (most recent call last)",
      "\u001b[0;32m<ipython-input-27-a646eb69a2f6>\u001b[0m in \u001b[0;36m<module>\u001b[0;34m\u001b[0m\n\u001b[0;32m----> 1\u001b[0;31m \u001b[0mf\u001b[0m \u001b[0;34m=\u001b[0m \u001b[0mFake\u001b[0m\u001b[0;34m(\u001b[0m\u001b[0;34m)\u001b[0m\u001b[0;34m\u001b[0m\u001b[0;34m\u001b[0m\u001b[0m\n\u001b[0m",
      "\u001b[0;31mTypeError\u001b[0m: Can't instantiate abstract class Fake with abstract method load"
     ]
    }
   ],
   "metadata": {}
  },
  {
   "cell_type": "code",
   "execution_count": 3,
   "source": [
    "# bingo.py\n",
    "\n",
    "import random\n",
    "# from tombola import Tombola\n",
    "\n",
    "class BingoCage(Tombola):\n",
    "    def __init__(self, items):\n",
    "        self._randomizer = random.SystemRandom()\n",
    "        self._items = []\n",
    "        self.load(items)\n",
    "        \n",
    "    def load(self, items):\n",
    "        self._items.extend(items)\n",
    "        self._randomizer.shuffle(self._items)\n",
    "        \n",
    "    def pick(self):\n",
    "        try:\n",
    "            return self._items.pop()\n",
    "        except IndexError:\n",
    "            raise LookupError('pick from empty BingoCage')\n",
    "            \n",
    "    def __call__(self):\n",
    "        self.pick()"
   ],
   "outputs": [],
   "metadata": {}
  },
  {
   "cell_type": "code",
   "execution_count": 4,
   "source": [
    "# lotto.py\n",
    "\n",
    "import random\n",
    "# from tombola import Tombola\n",
    "\n",
    "class LotteryBlower(Tombola):\n",
    "    def __init__(self, iterable):\n",
    "        self._balls = list(iterable) # 사본으로 저장\n",
    "        \n",
    "    def load(self, iterable):\n",
    "        self._balls.extend(iterable)\n",
    "        \n",
    "    def pick(self):\n",
    "        try:\n",
    "            pos = random.randrange(len(self._balls))\n",
    "        except ValueError:\n",
    "            raise LookupError('pick from empty BingCage')\n",
    "        return self._balls.pop(pos)\n",
    "    \n",
    "    def loaded(self):\n",
    "        return bool(self._balls)\n",
    "    \n",
    "    def inspect(self):\n",
    "        return tuple(sorted(self._balls)) #매서드 오바라이드"
   ],
   "outputs": [],
   "metadata": {}
  },
  {
   "cell_type": "markdown",
   "source": [
    "## 가상 서브클래스\n",
    "- 실제로 상속하지 않더라도 가상의 서브클래스로 등록 가능 \n",
    "- "
   ],
   "metadata": {}
  },
  {
   "cell_type": "code",
   "execution_count": null,
   "source": [],
   "outputs": [],
   "metadata": {}
  }
 ],
 "metadata": {
  "kernelspec": {
   "name": "python3",
   "display_name": "Python 3.9.6 64-bit"
  },
  "language_info": {
   "codemirror_mode": {
    "name": "ipython",
    "version": 3
   },
   "file_extension": ".py",
   "mimetype": "text/x-python",
   "name": "python",
   "nbconvert_exporter": "python",
   "pygments_lexer": "ipython3",
   "version": "3.9.6"
  },
  "orig_nbformat": 2,
  "interpreter": {
   "hash": "ac2eaa0ea0ebeafcc7822e65e46aa9d4f966f30b695406963e145ea4a91cd4fc"
  }
 },
 "nbformat": 4,
 "nbformat_minor": 2
}