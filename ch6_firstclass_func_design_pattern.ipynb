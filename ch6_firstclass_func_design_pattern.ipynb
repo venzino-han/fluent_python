{
 "cells": [
  {
   "cell_type": "markdown",
   "metadata": {},
   "source": [
    "#### 함수 객체를 통해 전략패턴 리팩토링, 명령패턴 단순화\n",
    "\n",
    "# 6.1 사례 전략 패턴의 리팩토링\n",
    "- 전략 패턴은 함수를 일급 객체로 사용함으로써 간단해 질 수 있다\n",
    "\n",
    "## 6.1.1 고전적인 전략\n",
    "- 전략 패턴 : 알고리즘을 정의, 각각을 하나의 클래스 안에 넣어 교체하기 쉽게함\n",
    "- 전략 패턴 구성요소 \n",
    "- 1. 콘텍스트 : 일부 계산을 다른 알고리즘을 구현하는 컴포넌트에 위임하여 서비스 제공\n",
    "- 2. 전략 : 여러 알고리즘을 구현하는 컴포넌트의 공통 인터페이스\n",
    "- 3. 구체적인 전략 : 전략의 구상 서브클래스\n",
    "\n",
    "### 전략 패턴 예제\n",
    "- 온라인 상정의 할인 규칙\n",
    "- 포인트 1000점 이상인 고객은 5% 할인\n",
    "- 하나의 주분에서 20개 이상 같은제품 구입시, 해당사품 10% 할인\n",
    "- 서로다른 상품 10종류 이상 주문, 7% 할인"
   ]
  },
  {
   "cell_type": "code",
   "execution_count": 8,
   "metadata": {},
   "outputs": [
    {
     "data": {
      "text/plain": "Customer(name='Jack', fidelity=100)"
     },
     "execution_count": 8,
     "metadata": {},
     "output_type": "execute_result"
    }
   ],
   "source": [
    "from abc import ABC, abstractmethod\n",
    "from collections import namedtuple\n",
    "\n",
    "Customer = namedtuple('Customer', 'name fidelity')\n",
    "\n",
    "jack = Customer('Jack',100)\n",
    "jack"
   ]
  },
  {
   "cell_type": "code",
   "execution_count": 9,
   "metadata": {},
   "outputs": [],
   "source": [
    "class LineItem:\n",
    "    \"\"\"구매할 물품/갯수 생성해서 총 가격을 반환\"\"\"\n",
    "    def __init__(self, product, quantity, price):\n",
    "        self.product = product\n",
    "        self.quantity = quantity\n",
    "        self.price = price\n",
    "        \n",
    "    def total(self):\n",
    "        return self.price * self.quantity\n",
    "\n",
    "\n",
    "class Order: # Context\n",
    "    \"\"\"고객(namedtuple) 및 LineItem 클래스의 인스턴스들을 cart로 받아서 총 계산할 가격을 산출\"\"\"\n",
    "    def __init__(self, customer, cart, promotion=None):\n",
    "        self.customer = customer\n",
    "        self.cart = list(cart)\n",
    "        self.promotion = promotion # 할인 객체\n",
    "        \n",
    "    def total(self):\n",
    "        \"\"\"__total 속성이 없으면 전체 계산할 값을 계산\"\"\"\n",
    "        if not hasattr(self, '__total'):\n",
    "            self.__total = sum(item.total() for item in self.cart)\n",
    "        return self.__total\n",
    "    \n",
    "    def due(self):\n",
    "        \"\"\"할인금액 차감\"\"\"\n",
    "        if self.promotion is None:\n",
    "            discount = 0\n",
    "        else:\n",
    "            discount = self.promotion.discount(self) # self = Order 객체\n",
    "        return self.total() - discount\n",
    "    \n",
    "    def __repr__(self):\n",
    "        fmt = '<Order total: {:.2f} due: {:.2f}>'\n",
    "        return fmt.format(self.total(), self.due())"
   ]
  },
  {
   "cell_type": "code",
   "execution_count": 10,
   "metadata": {},
   "outputs": [],
   "source": [
    "# 전략 구조 생성\n",
    "class Promotion(ABC): # strategy : abstract base class \n",
    "    \"\"\"할인 혜택 클래스들의 형태를 선언\"\"\"\n",
    "    \n",
    "    @abstractmethod # 이 클래스를 상속하는 클래스는 반드시 이 메서드를 선언해야함\n",
    "    def discount(self, order):\n",
    "        \"\"\"할인액을 구체적인 숫자로 반환\"\"\"\n",
    "        pass\n",
    "\n",
    "# 구체적인 전략 생성\n",
    "class FidelityPromo(Promotion):\n",
    "    \"\"\"충성도 점수가 1000점 이상인 고객에게 전체 5% 할인 적용\"\"\"\n",
    "    \n",
    "    def discount(self, order):\n",
    "        return order.total() * 0.05 if order.customer.fidelity >= 1000 else 0\n",
    "\n",
    "class BulkItemPromo(Promotion): \n",
    "    \"\"\"20개 이상의 동일 상품을 구입하면 10% 할인 적용\"\"\"\n",
    "    \n",
    "    def discount(self, order):\n",
    "        discount = 0\n",
    "        for item in order.cart:\n",
    "            if item.quantity >= 20:\n",
    "                discount += item.total() * 0.1\n",
    "        return discount\n",
    "    \n",
    "class LargeOrderPromo(Promotion):\n",
    "    \"\"\"10종류 이상의 상품을 구입하면 전체 7% 할인 적용\"\"\"\n",
    "    \n",
    "    def discount(self, order):\n",
    "        distinct_items = {item.product for item in order.cart}\n",
    "        if len(distinct_items) >= 10:\n",
    "            return order.total() * 0.07"
   ]
  },
  {
   "cell_type": "code",
   "execution_count": 11,
   "metadata": {},
   "outputs": [
    {
     "data": {
      "text/plain": "<Order total: 42.00 due: 42.00>"
     },
     "execution_count": 11,
     "metadata": {},
     "output_type": "execute_result"
    }
   ],
   "source": [
    "joe = Customer('John Doe', 0)\n",
    "ann = Customer('Ann Smith', 1100)\n",
    "cart = [LineItem('banana', 4, .5),\n",
    "       LineItem('apple', 10, 1.5),\n",
    "       LineItem('watermellon', 5, 5.0)]\n",
    "\n",
    "Order(joe, cart, FidelityPromo()) # 충성도 할인 없음"
   ]
  },
  {
   "cell_type": "code",
   "execution_count": 12,
   "metadata": {},
   "outputs": [
    {
     "data": {
      "text/plain": "<Order total: 42.00 due: 39.90>"
     },
     "execution_count": 12,
     "metadata": {},
     "output_type": "execute_result"
    }
   ],
   "source": [
    "Order(ann, cart, FidelityPromo()) # 충성도 할인 적용"
   ]
  },
  {
   "cell_type": "code",
   "execution_count": 13,
   "metadata": {},
   "outputs": [
    {
     "data": {
      "text/plain": "<Order total: 30.00 due: 28.50>"
     },
     "execution_count": 13,
     "metadata": {},
     "output_type": "execute_result"
    }
   ],
   "source": [
    "banana_cart = [LineItem('banana', 30, .5),\n",
    "               LineItem('apple', 10, 1.5)]\n",
    "Order(joe, banana_cart, BulkItemPromo()) # 바나나 20개 이상 --> 10% 할인"
   ]
  },
  {
   "cell_type": "code",
   "execution_count": 14,
   "metadata": {},
   "outputs": [
    {
     "data": {
      "text/plain": "<Order total: 10.00 due: 9.30>"
     },
     "execution_count": 14,
     "metadata": {},
     "output_type": "execute_result"
    }
   ],
   "source": [
    "long_order = [LineItem(str(item_code), 1, 1.0)\n",
    "             for item_code in range(10)] # 물품 종류가 10개\n",
    "Order(joe, long_order, LargeOrderPromo()) # 10개 이상 10% 할인"
   ]
  },
  {
   "cell_type": "markdown",
   "metadata": {},
   "source": [
    "## 6.1.2 함수지향 전략\n",
    "- 앞선 예제의 구체적 전략 객체를 함수로 대체"
   ]
  },
  {
   "cell_type": "code",
   "execution_count": 15,
   "metadata": {},
   "outputs": [],
   "source": [
    "class Order: # Context\n",
    "    \"\"\"고객(namedtuple) 및 LineItem 클래스의 인스턴스들을 cart로 받아서 총 계산할 가격을 산출\"\"\"\n",
    "    def __init__(self, customer, cart, promotion=None):\n",
    "        self.customer = customer\n",
    "        self.cart = list(cart)\n",
    "        self.promotion = promotion # 할인 객체\n",
    "        \n",
    "    def total(self):\n",
    "        if not hasattr(self, '__total'):\n",
    "            self.__total = sum(item.total() for item in self.cart)\n",
    "        return self.__total\n",
    "    \n",
    "    def due(self):\n",
    "        if self.promotion is None:\n",
    "            discount = 0\n",
    "        else:\n",
    "            discount = self.promotion(self) # promotion은 함수 객체\n",
    "        return self.total() - discount\n",
    "    \n",
    "    def __repr__(self):\n",
    "        fmt = '<Order total: {:.2f} due: {:.2f}>'\n",
    "        return fmt.format(self.total(), self.due())"
   ]
  },
  {
   "cell_type": "code",
   "execution_count": 16,
   "metadata": {},
   "outputs": [],
   "source": [
    "#개별 전략을 함수로 정의\n",
    "def fidelity_promo(order):\n",
    "    \"\"\"충성도 점수가 1000점 이상인 고객에게 전체 5% 할인 적용\"\"\"\n",
    "    return order.total() * 0.05 if order.customer.fidelity >= 1000 else 0\n",
    "\n",
    "def bulk_item_promo(order): \n",
    "    \"\"\"20개 이상의 동일 상품을 구입하면 10% 할인 적용\"\"\"\n",
    "    discount = 0\n",
    "    for item in order.cart:\n",
    "        if item.quantity >= 20:\n",
    "            discount += item.total() * 0.1\n",
    "    return discount\n",
    "    \n",
    "def large_order_promo(order):\n",
    "    \"\"\"10종류 이상의 상품을 구입하면 전체 7% 할인 적용\"\"\"\n",
    "    distinct_items = {item.product for item in order.cart}\n",
    "    if len(distinct_items) >= 10:\n",
    "        return order.total() * 0.07\n",
    "    return 0"
   ]
  },
  {
   "cell_type": "code",
   "execution_count": 17,
   "metadata": {},
   "outputs": [
    {
     "data": {
      "text/plain": "<Order total: 42.00 due: 39.90>"
     },
     "execution_count": 17,
     "metadata": {},
     "output_type": "execute_result"
    }
   ],
   "source": [
    "Order(ann, cart, fidelity_promo)"
   ]
  },
  {
   "cell_type": "code",
   "execution_count": 18,
   "metadata": {},
   "outputs": [
    {
     "data": {
      "text/plain": "(<Order total: 30.00 due: 28.50>, <Order total: 10.00 due: 9.30>)"
     },
     "execution_count": 18,
     "metadata": {},
     "output_type": "execute_result"
    }
   ],
   "source": [
    "Order(joe, banana_cart, bulk_item_promo), \\\n",
    "Order(ann, long_order, large_order_promo)\n"
   ]
  },
  {
   "cell_type": "markdown",
   "metadata": {},
   "source": [
    "### 플라이웨이트\n",
    "- 여러 콘텍스트에서 동시에 사용할 수 있는 공유 객체 \n",
    "- 전략 객체를 반복하는 경우, 플라이웨이트 공유가 생성 비용을 절약함\n",
    "- 전략 객체가 상태가 없는 경우, 함수로 만드는것이 나음 "
   ]
  },
  {
   "cell_type": "markdown",
   "metadata": {},
   "source": [
    "## 6.1.3 최선의 전략 선택 : 단순한 접근법\n",
    "- Order 객체에 대해 적용할 수 있는 가장 좋은 할인 전략을 선택하는 '메타 전략'을 만든다고 가정 "
   ]
  },
  {
   "cell_type": "code",
   "execution_count": 19,
   "metadata": {},
   "outputs": [],
   "source": [
    "promos = [fidelity_promo, bulk_item_promo, large_order_promo]\n",
    "# 함수들로 구현된 전략들의 리스트\n",
    "\n",
    "def best_promo(order):\n",
    "    \"\"\"최대로 할인받을 금액을 반환\"\"\"\n",
    "    return max(promo(order) for promo in promos)"
   ]
  },
  {
   "cell_type": "code",
   "execution_count": 20,
   "metadata": {},
   "outputs": [
    {
     "data": {
      "text/plain": "(<Order total: 10.00 due: 9.30>,\n <Order total: 30.00 due: 28.50>,\n <Order total: 42.00 due: 39.90>)"
     },
     "execution_count": 20,
     "metadata": {},
     "output_type": "execute_result"
    }
   ],
   "source": [
    "Order(joe, long_order, best_promo),\\\n",
    "Order(joe, banana_cart, best_promo),\\\n",
    "    Order(ann, cart, best_promo)"
   ]
  },
  {
   "cell_type": "code",
   "execution_count": 21,
   "metadata": {},
   "outputs": [],
   "source": [
    "# 일부 코드 중복으로 버그 발생 가능성 \n",
    "# - 새로운 할인 전략 추가시, 함수를 promos 리스트에 추가\n",
    "# - 새로운 할인 함수를 Order 객체에 인수로 전달할 수 있으나, best_promo()는 새로운 할인 함수를 고려하지 않음"
   ]
  },
  {
   "cell_type": "markdown",
   "metadata": {},
   "source": []
  },
  {
   "cell_type": "markdown",
   "metadata": {},
   "source": [
    "## 6.1.4 모듈에서 전략 찾기 \n",
    "- globals() : 모듈을 다루는 함수, 전역 심벌 테이블을 나타내는 딕셔너리 반환 \n",
    "- 함수가 정의된 모듈을 찾을 수 있다."
   ]
  },
  {
   "cell_type": "code",
   "execution_count": 22,
   "metadata": {},
   "outputs": [
    {
     "data": {
      "text/plain": "dict_keys(['__name__', '__doc__', '__package__', '__loader__', '__spec__', '__builtin__', '__builtins__', '_ih', '_oh', '_dh', 'In', 'Out', 'get_ipython', 'exit', 'quit', '_', '__', '___', 'os', 'sys', '_i', '_ii', '_iii', '_i1', 'Order', '_i2', 'fidelity_promo', 'bulk_item_promo', 'large_order_promo', '_i3', 'promos', 'best_promo', '_i4', '_i5', '_i6', '_i7', '_i8', 'ABC', 'abstractmethod', 'namedtuple', 'Customer', 'jack', '_8', '_i9', 'LineItem', '_i10', 'Promotion', 'FidelityPromo', 'BulkItemPromo', 'LargeOrderPromo', '_i11', 'joe', 'ann', 'cart', '_11', '_i12', '_12', '_i13', 'banana_cart', '_13', '_i14', 'long_order', '_14', '_i15', '_i16', '_i17', '_17', '_i18', '_18', '_i19', '_i20', '_20', '_i21', '_i22'])"
     },
     "execution_count": 22,
     "metadata": {},
     "output_type": "execute_result"
    }
   ],
   "source": [
    "globals().keys()"
   ]
  },
  {
   "cell_type": "code",
   "execution_count": 24,
   "metadata": {},
   "outputs": [
    {
     "data": {
      "text/plain": "'Order(ann, cart, fidelity_promo)'"
     },
     "execution_count": 24,
     "metadata": {},
     "output_type": "execute_result"
    }
   ],
   "source": [
    "globals()['_i17']"
   ]
  },
  {
   "cell_type": "code",
   "execution_count": 25,
   "metadata": {},
   "outputs": [
    {
     "data": {
      "text/plain": "[<function __main__.fidelity_promo(order)>,\n <function __main__.bulk_item_promo(order)>,\n <function __main__.large_order_promo(order)>]"
     },
     "execution_count": 25,
     "metadata": {},
     "output_type": "execute_result"
    }
   ],
   "source": [
    "#  *_promo() 함수 찾기\n",
    "promos = [globals()[name] for name in globals()\n",
    "         if name.endswith('_promo')\n",
    "         and name != 'best_promo'] # 재귀호출을 피하기 위함\n",
    "promos"
   ]
  },
  {
   "cell_type": "code",
   "execution_count": 26,
   "metadata": {},
   "outputs": [
    {
     "data": {
      "text/plain": "[<function promotions.bulk_item_promo(order)>,\n <function promotions.fidelity_promo(order)>,\n <function promotions.large_order_promo(order)>]"
     },
     "execution_count": 26,
     "metadata": {},
     "output_type": "execute_result"
    }
   ],
   "source": [
    "import promotions, inspect\n",
    "#promotions.py\n",
    "\n",
    "promos = [func for name, func in\n",
    "         inspect.getmembers(promotions, inspect.isfunction)]\n",
    "\n",
    "promos"
   ]
  },
  {
   "cell_type": "markdown",
   "metadata": {},
   "source": [
    "# 6.2 명령\n",
    "- 함수를 인자로 전달하여 명령 디자인 패턴도 단순하게 만들 수 있다\n",
    "- 명령 패턴 : 연산을 실행하는 객체(invoker)와 연산을 수행하는 객체(receiver)를 분리하는 패턴"
   ]
  },
  {
   "cell_type": "code",
   "execution_count": 27,
   "metadata": {},
   "outputs": [],
   "source": [
    "#명령 패턴 예제\n",
    "# 구글홈을 사용하는 사용자, 구글홈, 히터 \n",
    "class Heater:\n",
    "    def __init__(self):\n",
    "        pass\n",
    "    \n",
    "    def powerOn(self):\n",
    "        print(\"Heater on\")\n",
    "\n",
    "class OKGoogle:\n",
    "    def __init__(self, heater):\n",
    "        self.heater = heater\n",
    "        \n",
    "    def talk(self):\n",
    "        self.heater.powerOn()\n",
    "\n",
    "class Client:\n",
    "    def __init__(self):\n",
    "        pass\n",
    "    \n",
    "    def main(self):\n",
    "        heater = Heater()\n",
    "        okGoogle = OKGoogle(heater)\n",
    "        okGoogle.talk()"
   ]
  },
  {
   "cell_type": "code",
   "execution_count": 28,
   "metadata": {},
   "outputs": [
    {
     "name": "stdout",
     "output_type": "stream",
     "text": [
      "Heater on\n"
     ]
    }
   ],
   "source": [
    "client = Client()\n",
    "client.main()"
   ]
  },
  {
   "cell_type": "code",
   "execution_count": 29,
   "metadata": {},
   "outputs": [
    {
     "name": "stdout",
     "output_type": "stream",
     "text": [
      "Heater on\n",
      "Lamp on\n"
     ]
    }
   ],
   "source": [
    "#램프 켜기 추가 \n",
    "# Lamp class 정의, OKGoogle 램프참조\n",
    "\n",
    "class Lamp:\n",
    "    def __init__(self):\n",
    "        pass\n",
    "    \n",
    "    def turnOn(self):\n",
    "        print(\"Lamp on\")\n",
    "\n",
    "\n",
    "modes = ['heater', 'lamp']\n",
    "\n",
    "\n",
    "class OKGoogle:\n",
    "    def __init__(self, heater, lamp):\n",
    "        self.heater = heater\n",
    "        self.lamp = lamp\n",
    "        \n",
    "    def setMode(self, idx):\n",
    "        self.mode = modes[idx]\n",
    "        \n",
    "    def talk(self):\n",
    "        if self.mode == 'heater':\n",
    "            self.heater.powerOn()\n",
    "        elif self.mode == 'lamp':\n",
    "            self.lamp.turnOn()\n",
    "\n",
    "\n",
    "class Client:\n",
    "    def __init__(self):\n",
    "        pass\n",
    "    \n",
    "    def main(self):\n",
    "        heater = Heater()\n",
    "        lamp = Lamp()\n",
    "        okGoogle = OKGoogle(heater, lamp)\n",
    "        \n",
    "        # 히터 켜짐\n",
    "        okGoogle.setMode(0)\n",
    "        okGoogle.talk()\n",
    "        \n",
    "        # 램프 켜짐\n",
    "        okGoogle.setMode(1)\n",
    "        okGoogle.talk()\n",
    "\n",
    "client = Client()\n",
    "client.main()"
   ]
  },
  {
   "cell_type": "code",
   "execution_count": 30,
   "metadata": {},
   "outputs": [],
   "source": [
    "# OKGoogle에게 mode 설정을 통해 mode='heater'이면 히터, mode='lamp'이면 램프를 켜도록 설정\n",
    "# 기능이 많아질 수록 객체의 프로퍼티는 더욱 늘어나고 talk() 메서드의 분기 증가\n",
    "# OCP(\"클래스나 모듈은 확장에는 열려 있어야 하고 변경에는 닫혀 있어야 한다\") 원칙에도 위배\n",
    "# 해결 --> 기능의 캡슐화, talk()메서드가 캡슐화한 인터페이스의 메서드를 호출"
   ]
  },
  {
   "cell_type": "code",
   "execution_count": 32,
   "metadata": {},
   "outputs": [
    {
     "name": "stdout",
     "output_type": "stream",
     "text": [
      "Heater on\n",
      "Lamp on\n"
     ]
    }
   ],
   "source": [
    "# 인터페이스 정의\n",
    "class Command(ABC):\n",
    "\n",
    "    @abstractmethod\n",
    "    def run(self):\n",
    "        pass\n",
    "\n",
    "\n",
    "# 명령들을 각각 클래스화\n",
    "class HeaterOnCommand(Command):\n",
    "    def __init__(self, heater):\n",
    "        self.heater = heater\n",
    "        \n",
    "    def run(self):\n",
    "        self.heater.powerOn()\n",
    "\n",
    "class Heater:\n",
    "    \n",
    "    def powerOn(self):\n",
    "        print(\"Heater on\")\n",
    "\n",
    "\n",
    "class LampOnCommand(Command):\n",
    "    def __init__(self, lamp):\n",
    "        self.lamp = lamp\n",
    "        \n",
    "    def run(self):\n",
    "        self.lamp.turnOn()\n",
    "\n",
    "class Lamp:\n",
    "    \n",
    "    def turnOn(self):\n",
    "        print(\"Lamp on\")\n",
    "\n",
    "\n",
    "# OKGoogle 클래스의 talk() 메서드에서는 Command 인터페이스의 run() 메서드를 통해 명령을 실행\n",
    "class OKGoogle:\n",
    "    \n",
    "    def setCommand(self, command): #커멘드 함수를 인자로 받음\n",
    "        self.command = command\n",
    "        \n",
    "    def talk(self):\n",
    "        self.command.run()\n",
    "\n",
    "# OKGoogle을 사용하는 Client 클래스를 정의\n",
    "class Client:\n",
    "    def __init__(self):\n",
    "        pass\n",
    "    \n",
    "    def main(self):\n",
    "        heater = Heater()\n",
    "        lamp = Lamp()\n",
    "        \n",
    "        heaterOnCommand = HeaterOnCommand(heater)\n",
    "        lampOnCommand = LampOnCommand(lamp)\n",
    "        okGoogle = OKGoogle()\n",
    "        \n",
    "        # 히터를 켠다\n",
    "        okGoogle.setCommand(heaterOnCommand)\n",
    "        okGoogle.talk()\n",
    "        \n",
    "        # 램프를 켠다\n",
    "        okGoogle.setCommand(lampOnCommand)\n",
    "        okGoogle.talk()\n",
    "\n",
    "client = Client()\n",
    "client.main()"
   ]
  },
  {
   "cell_type": "code",
   "execution_count": 33,
   "metadata": {},
   "outputs": [
    {
     "name": "stdout",
     "output_type": "stream",
     "text": [
      "Heater on\n",
      "Lamp on\n"
     ]
    }
   ],
   "source": [
    "#  HeaterOnCommand 클래스의 run()을 콜러블로 변경\n",
    "class Command(ABC):\n",
    "\n",
    "    @abstractmethod\n",
    "    def __call__(self):\n",
    "        pass\n",
    "\n",
    "\n",
    "class HeaterOnCommand(Command):\n",
    "    def __init__(self, heater):\n",
    "        self.heater = heater\n",
    "        \n",
    "    def __call__(self):\n",
    "        self.heater.powerOn()\n",
    "\n",
    "class LampOnCommand(Command):\n",
    "    def __init__(self, lamp):\n",
    "        self.lamp = lamp\n",
    "        \n",
    "    def __call__(self):\n",
    "        self.lamp.turnOn()\n",
    "\n",
    "\n",
    "class OKGoogle:\n",
    "    def __init__(self):\n",
    "        pass\n",
    "    \n",
    "    def setCommand(self, command):\n",
    "        self.command = command\n",
    "        \n",
    "    def talk(self):\n",
    "        self.command() # callable 로 변경\n",
    "\n",
    "class Client:\n",
    "    def __init__(self):\n",
    "        pass\n",
    "    \n",
    "    def main(self):\n",
    "        heater = Heater()\n",
    "        lamp = Lamp()\n",
    "        \n",
    "        heaterOnCommand = HeaterOnCommand(heater)\n",
    "        lampOnCommand = LampOnCommand(lamp)\n",
    "        okGoogle = OKGoogle()\n",
    "        \n",
    "        # 히터를 켠다\n",
    "        okGoogle.setCommand(heaterOnCommand)\n",
    "        okGoogle.talk()\n",
    "        \n",
    "        # 램프를 켠다\n",
    "        okGoogle.setCommand(lampOnCommand)\n",
    "        okGoogle.talk()\n",
    "\n",
    "client = Client()\n",
    "client.main()"
   ]
  },
  {
   "cell_type": "code",
   "execution_count": null,
   "metadata": {},
   "outputs": [],
   "source": []
  }
 ],
 "metadata": {
  "kernelspec": {
   "display_name": "Python 3.8.2 64-bit",
   "metadata": {
    "interpreter": {
     "hash": "31f2aee4e71d21fbe5cf8b01ff0e069b9275f58929596ceb00d14d90e3e16cd6"
    }
   },
   "name": "python3"
  },
  "language_info": {
   "codemirror_mode": {
    "name": "ipython",
    "version": 3
   },
   "file_extension": ".py",
   "mimetype": "text/x-python",
   "name": "python",
   "nbconvert_exporter": "python",
   "pygments_lexer": "ipython3",
   "version": "3.8.2"
  },
  "orig_nbformat": 2
 },
 "nbformat": 4,
 "nbformat_minor": 2
}